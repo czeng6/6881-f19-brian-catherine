{
 "cells": [
  {
   "cell_type": "markdown",
   "metadata": {},
   "source": [
    "# Setup"
   ]
  },
  {
   "cell_type": "code",
   "execution_count": 1,
   "metadata": {},
   "outputs": [],
   "source": [
    "# Import stuff to be used in this notebook. Run this first!\n",
    "%reload_ext autoreload\n",
    "%autoreload 2\n",
    "import matplotlib.pyplot as plt\n",
    "from matplotlib import cm\n",
    "import numpy as np\n",
    "import meshcat\n",
    "import meshcat.geometry as g\n",
    "from manip_station_sim.plan_utils import PlotJointLog, PlotIiwaPositionLog"
   ]
  },
  {
   "cell_type": "code",
   "execution_count": 2,
   "metadata": {},
   "outputs": [
    {
     "name": "stdout",
     "output_type": "stream",
     "text": [
      "You can open the visualizer by visiting the following URL:\n",
      "http://127.0.0.1:7000/static/\n"
     ]
    }
   ],
   "source": [
    "# First start meshcat for visualization - this only has to be run once.\n",
    "\n",
    "# If you interrupt the kernel of this notebook, you'll need to run this cell again to \n",
    "# restart the meshcat server, and then refresh the visualization window. \n",
    "\n",
    "# This will open a mesh-cat server in the background, \n",
    "# click on the url to display visualization in a separate window. \n",
    "vis = meshcat.Visualizer()"
   ]
  },
  {
   "cell_type": "code",
   "execution_count": 3,
   "metadata": {},
   "outputs": [],
   "source": [
    "def make_meshcat_color_array(N, r, g, b):\n",
    "    color = np.zeros((3, N))\n",
    "    color[0, :] = r\n",
    "    color[1, :] = g\n",
    "    color[2, :] = b\n",
    "\n",
    "    return color"
   ]
  },
  {
   "cell_type": "code",
   "execution_count": 4,
   "metadata": {},
   "outputs": [],
   "source": [
    "box_model = np.load(\"resources/box_model.npy\")\n"
   ]
  },
  {
   "cell_type": "code",
   "execution_count": 5,
   "metadata": {},
   "outputs": [],
   "source": [
    "M = box_model.shape[0]\n",
    "red = make_meshcat_color_array(M, 0.5, 0, 0)\n",
    "green = make_meshcat_color_array(M, 0, 0.5, 0)\n",
    "model_meshcat = g.PointCloud(box_model.T, red)\n",
    "vis['model'].set_object(model_meshcat)"
   ]
  },
  {
   "cell_type": "code",
   "execution_count": null,
   "metadata": {},
   "outputs": [],
   "source": [
    "# Run this if you feel the visualizer is messed up and want to start over.\n",
    "vis.delete()"
   ]
  },
  {
   "cell_type": "markdown",
   "metadata": {},
   "source": [
    "# Inverse Kinematics"
   ]
  },
  {
   "cell_type": "code",
   "execution_count": 6,
   "metadata": {},
   "outputs": [
    {
     "name": "stdout",
     "output_type": "stream",
     "text": [
      "SolutionResult.kSolutionFound\n",
      "Connecting to meshcat-server at zmq_url=tcp://127.0.0.1:6000...\n",
      "You can open the visualizer by visiting the following URL:\n",
      "http://127.0.0.1:7000/static/\n",
      "Connected to meshcat-server.\n",
      "simulation duration 39.0\n",
      "plan starting times\n",
      " [ 0.  2.  9. 12. 14. 18. 23. 28. 33. 37.]\n",
      "t:  0.0\n",
      "t:  1.0\n",
      "Running plan 1 (type: JointSpacePlanGoToTarget), starting at 2.000000 for a duration of 6.000000 seconds.\n",
      "\n",
      "t:  2.0\n",
      "t:  3.0\n",
      "t:  4.0\n",
      "t:  5.0\n",
      "t:  6.0\n",
      "t:  7.0\n",
      "t:  8.0\n",
      "Running plan 2 (type: JointSpacePlan), starting at 9.000000 for a duration of 2.000000 seconds.\n",
      "\n",
      "t:  9.0\n",
      "t:  10.0\n",
      "t:  11.0\n",
      "Running plan 3 (type: JointSpacePlan), starting at 12.000000 for a duration of 1.000000 seconds.\n",
      "\n",
      "t:  12.0\n",
      "t:  13.0\n",
      "Running plan 4 (type: JointSpacePlan), starting at 14.000000 for a duration of 3.000000 seconds.\n",
      "\n",
      "t:  14.0\n",
      "t:  15.0\n",
      "t:  16.0\n",
      "t:  17.0\n",
      "Running plan 5 (type: JointSpacePlan), starting at 18.000000 for a duration of 4.000000 seconds.\n",
      "\n",
      "t:  18.0\n",
      "t:  19.0\n",
      "t:  20.0\n",
      "t:  21.0\n",
      "t:  22.0\n",
      "Running plan 6 (type: JointSpacePlan), starting at 23.000000 for a duration of 4.000000 seconds.\n",
      "\n",
      "t:  23.0\n",
      "t:  24.0\n",
      "t:  25.0\n",
      "t:  26.0\n",
      "t:  27.0\n",
      "Running plan 7 (type: JointSpacePlan), starting at 28.000000 for a duration of 4.000000 seconds.\n",
      "\n",
      "t:  28.0\n",
      "t:  29.0\n",
      "t:  30.0\n",
      "t:  31.0\n",
      "t:  32.0\n",
      "Running plan 8 (type: JointSpacePlan), starting at 33.000000 for a duration of 3.000000 seconds.\n",
      "\n",
      "t:  33.0\n",
      "t:  34.0\n",
      "t:  35.0\n",
      "t:  36.0\n",
      "No more plans to run, holding current position...\n",
      "\n",
      "Running plan 9 (type: JointSpacePlanRelative), starting at 37.000000 for a duration of 3600.000000 seconds.\n",
      "\n",
      "t:  37.0\n",
      "t:  38.0\n"
     ]
    }
   ],
   "source": [
    "from manip_station_sim.manipulation_station_simulator import ManipulationStationSimulator\n",
    "from manip_station_sim.robot_plans import JointSpacePlan\n",
    "from iiwa_pick_and_place_trajectory_generation import GenerateIiwaTrajectoriesAndGripperSetPoints\n",
    "from pydrake.math import RollPitchYaw\n",
    "from pydrake.math import RigidTransform\n",
    "\n",
    "q0 = np.array([0., 0, 0., -1.5, 0., 1., 0.])\n",
    "\n",
    "X_WO = RigidTransform()\n",
    "X_WO.set_translation([0.555, 0.02, 0.1])\n",
    "\n",
    "rpy = RollPitchYaw([np.pi/2,0, -0.106])\n",
    "X_WO.set_rotation(rpy)\n",
    "\n",
    "# Construct simulator.\n",
    "sim = ManipulationStationSimulator(X_WO)\n",
    "\n",
    "# Create Plans\n",
    "q_traj_list, gripper_setpoint_list = GenerateIiwaTrajectoriesAndGripperSetPoints(X_WO)\n",
    "plan_list = [JointSpacePlan(q_traj) for q_traj in q_traj_list]\n",
    "\n",
    "# real_time_rate=0 means running the simulation as fast as possible. \n",
    "# Setting real_time_rate 1 to run the simulation close to real time.\n",
    "(iiwa_position_command_log, iiwa_position_measured_log,\n",
    "    iiwa_external_torque_log, iiwa_velocity_estimated_log,\n",
    "    plant_state_log, t_plan) = sim.RunSimulation(\n",
    "    q0, plan_list, gripper_setpoint_list, extra_time=2.0, real_time_rate=0.3)"
   ]
  },
  {
   "cell_type": "markdown",
   "metadata": {},
   "source": [
    "## Plots"
   ]
  },
  {
   "cell_type": "code",
   "execution_count": null,
   "metadata": {},
   "outputs": [],
   "source": [
    "# Plot joint velocity\n",
    "PlotJointLog(iiwa_velocity_estimated_log, legend=\"qDt\", y_label=\"rad/s\")"
   ]
  },
  {
   "cell_type": "code",
   "execution_count": null,
   "metadata": {},
   "outputs": [],
   "source": [
    "# Plot joint torque\n",
    "PlotJointLog(iiwa_external_torque_log, legend=\"tau_ext\", y_label=\"N*m\")"
   ]
  },
  {
   "cell_type": "code",
   "execution_count": null,
   "metadata": {},
   "outputs": [],
   "source": [
    "# Plot joint position logs.\n",
    "PlotIiwaPositionLog(iiwa_position_command_log, iiwa_position_measured_log)"
   ]
  },
  {
   "cell_type": "markdown",
   "metadata": {},
   "source": [
    "## Utility"
   ]
  },
  {
   "cell_type": "code",
   "execution_count": null,
   "metadata": {},
   "outputs": [],
   "source": [
    "# utility: draw a frame at pose X_WC.\n",
    "from pydrake.systems.meshcat_visualizer import AddTriad\n",
    "from pydrake.math import RigidTransform\n",
    "X_WC = RigidTransform()\n",
    "X_WC.set_translation([0.52, 0.033, 0.21]) \n",
    "\n",
    "rpy = RollPitchYaw([0,0, -0.106])\n",
    "X_WC.set_rotation(rpy)\n",
    "\n",
    "\n",
    "AddTriad(vis, \"test\", \"tests\", length=0.15, radius=0.006)\n",
    "vis[\"tests\"][\"test\"].set_transform(X_WC.matrix())"
   ]
  },
  {
   "cell_type": "markdown",
   "metadata": {},
   "source": [
    "# RRT\n"
   ]
  },
  {
   "cell_type": "code",
   "execution_count": 7,
   "metadata": {},
   "outputs": [],
   "source": [
    "# Import stuff to be used in this notebook. Run this first!\n",
    "%reload_ext autoreload\n",
    "%autoreload 2\n",
    "\n",
    "import numpy as np\n",
    "import meshcat\n",
    "\n",
    "from pydrake.math import RollPitchYaw, RotationMatrix, RigidTransform\n",
    "from pydrake.trajectories import PiecewisePolynomial"
   ]
  },
  {
   "cell_type": "code",
   "execution_count": 9,
   "metadata": {},
   "outputs": [],
   "source": [
    "from ik_iiwa import SolveOneShotIk, q0, q_home, p_L7Q, X_WO\n",
    "\n",
    "\n",
    "p_WQ_0 = np.array([0.52, 0.033, 0.18])\n",
    "R_WL7_0 = RollPitchYaw(0.14, np.pi * 5 / 6, 0).ToRotationMatrix()\n",
    "\n",
    "p_WQ_final = np.array([0.53, 0.033, 0.38])\n",
    "R_WL7_final = RollPitchYaw(0.14, np.pi * 5 / 6, 0).ToRotationMatrix()\n",
    "\n",
    "q_start = SolveOneShotIk(p_WQ_0, R_WL7_0, p_L7Q, q_home)\n",
    "q_goal = SolveOneShotIk(p_WQ_final, R_WL7_final, p_L7Q, q_home)"
   ]
  },
  {
   "cell_type": "code",
   "execution_count": 10,
   "metadata": {},
   "outputs": [],
   "source": [
    "\n",
    "p_WQ_0_2 = np.array([0.53, 0.033, 0.38])\n",
    "R_WL7_0_2 = RollPitchYaw(0.14, np.pi * 5 / 6, 0).ToRotationMatrix()\n",
    "\n",
    "p_WQ_final_2 = np.array([0.52, 0.033, 0.21])\n",
    "R_WL7_final_2 = RollPitchYaw(0.14, np.pi * 5 / 6, 0).ToRotationMatrix()\n",
    "\n",
    "q_start_2 = SolveOneShotIk(p_WQ_0_2, R_WL7_0_2, p_L7Q, q_home)\n",
    "q_goal_2 = SolveOneShotIk(p_WQ_final_2, R_WL7_final_2, p_L7Q, q_home)"
   ]
  },
  {
   "cell_type": "code",
   "execution_count": 11,
   "metadata": {},
   "outputs": [
    {
     "name": "stdout",
     "output_type": "stream",
     "text": [
      "Connecting to meshcat-server at zmq_url=tcp://127.0.0.1:6000...\n",
      "You can open the visualizer by visiting the following URL:\n",
      "http://127.0.0.1:7000/static/\n",
      "Connected to meshcat-server.\n"
     ]
    }
   ],
   "source": [
    "# Constructs rrt problem 1. \n",
    "from rrt_planner.iiwa_rrt_problem import IiwaProblem\n",
    "\n",
    "gripper_setpoint = 0.1\n",
    "door_angle = np.pi/2 - 0.001\n",
    "left_door_angle = -0.001\n",
    "right_door_angle = 0.001\n",
    "\n",
    "iiwa_problem = IiwaProblem(\n",
    "    q_start=q_start,\n",
    "    q_goal=q_goal,\n",
    "    gripper_setpoint=gripper_setpoint,\n",
    "    left_door_angle=left_door_angle,\n",
    "    right_door_angle=right_door_angle,\n",
    "    is_visualizing=True)"
   ]
  },
  {
   "cell_type": "code",
   "execution_count": 12,
   "metadata": {},
   "outputs": [
    {
     "name": "stdout",
     "output_type": "stream",
     "text": [
      "Connecting to meshcat-server at zmq_url=tcp://127.0.0.1:6000...\n",
      "You can open the visualizer by visiting the following URL:\n",
      "http://127.0.0.1:7000/static/\n",
      "Connected to meshcat-server.\n"
     ]
    }
   ],
   "source": [
    "# Constructs rrt problem 2. \n",
    "from rrt_planner.iiwa_rrt_problem import IiwaProblem\n",
    "\n",
    "iiwa_problem_2 = IiwaProblem(\n",
    "    q_start=q_start_2,\n",
    "    q_goal=q_goal_2,\n",
    "    gripper_setpoint=gripper_setpoint,\n",
    "    left_door_angle=left_door_angle,\n",
    "    right_door_angle=right_door_angle,\n",
    "    is_visualizing=True)"
   ]
  },
  {
   "cell_type": "code",
   "execution_count": 13,
   "metadata": {},
   "outputs": [
    {
     "name": "stdout",
     "output_type": "stream",
     "text": [
      "Path found with 2 movements of distance  3.2078283481154464\n",
      "Smoothed path found with 2 movements of distance  1.3313599284380206\n"
     ]
    }
   ],
   "source": [
    "path = iiwa_problem.run_planner(method=\"birrt\")"
   ]
  },
  {
   "cell_type": "code",
   "execution_count": 14,
   "metadata": {},
   "outputs": [
    {
     "name": "stdout",
     "output_type": "stream",
     "text": [
      "Path found with 2 movements of distance  6.328087305886326\n",
      "Smoothed path found with 1 movements of distance  1.074291576235297\n"
     ]
    }
   ],
   "source": [
    "path_2 = iiwa_problem_2.run_planner(method=\"birrt\")"
   ]
  },
  {
   "cell_type": "code",
   "execution_count": 15,
   "metadata": {},
   "outputs": [
    {
     "name": "stdout",
     "output_type": "stream",
     "text": [
      "Connecting to meshcat-server at zmq_url=tcp://127.0.0.1:6000...\n",
      "You can open the visualizer by visiting the following URL:\n",
      "http://127.0.0.1:7000/static/\n",
      "Connected to meshcat-server.\n",
      "simulation duration 33.0\n",
      "plan starting times\n",
      " [ 0.  2.  9. 11. 20. 29. 31.]\n",
      "t:  0.0\n",
      "t:  1.0\n",
      "Running plan 1 (type: JointSpacePlanGoToTarget), starting at 2.000000 for a duration of 6.000000 seconds.\n",
      "\n",
      "t:  2.0\n",
      "t:  3.0\n",
      "t:  4.0\n",
      "t:  5.0\n",
      "t:  6.0\n",
      "t:  7.0\n",
      "t:  8.0\n",
      "Running plan 2 (type: JointSpacePlan), starting at 9.000000 for a duration of 1.000000 seconds.\n",
      "\n",
      "t:  9.0\n",
      "t:  10.0\n",
      "Running plan 3 (type: JointSpacePlan), starting at 11.000000 for a duration of 8.000000 seconds.\n",
      "\n",
      "t:  11.0\n",
      "t:  12.0\n",
      "t:  13.0\n",
      "t:  14.0\n",
      "t:  15.0\n",
      "t:  16.0\n",
      "t:  17.0\n",
      "t:  18.0\n",
      "t:  19.0\n",
      "Running plan 4 (type: JointSpacePlan), starting at 20.000000 for a duration of 8.000000 seconds.\n",
      "\n",
      "t:  20.0\n",
      "t:  21.0\n",
      "t:  22.0\n",
      "t:  23.0\n",
      "t:  24.0\n",
      "t:  25.0\n",
      "t:  26.0\n",
      "t:  27.0\n",
      "t:  28.0\n",
      "Running plan 5 (type: JointSpacePlan), starting at 29.000000 for a duration of 1.000000 seconds.\n",
      "\n",
      "t:  29.0\n",
      "t:  30.0\n",
      "No more plans to run, holding current position...\n",
      "\n",
      "Running plan 6 (type: JointSpacePlanRelative), starting at 31.000000 for a duration of 3600.000000 seconds.\n",
      "\n",
      "t:  31.0\n",
      "t:  32.0\n"
     ]
    }
   ],
   "source": [
    "from manip_station_sim_rrt.manipulation_station_simulator import ManipulationStationSimulator\n",
    "from manip_station_sim_rrt.robot_plans import JointSpacePlan\n",
    "\n",
    "X_WO = RigidTransform()\n",
    "X_WO.set_translation([0.555, 0.02, 0.1])\n",
    "\n",
    "rpy = RollPitchYaw([np.pi/2,0, -0.106])\n",
    "X_WO.set_rotation(rpy)\n",
    "\n",
    "\n",
    "# joint space trajectory from RRT path\n",
    "duration = 8\n",
    "t_knots = np.linspace(0, duration, len(path))\n",
    "q_knots = np.array(path)\n",
    "q_traj_rrt = PiecewisePolynomial.Cubic(t_knots, q_knots.T, np.zeros(7), np.zeros(7))\n",
    "\n",
    "#joint space trajectory from RRT path\n",
    "duration_2 = 8\n",
    "t_knots_2 = np.linspace(0, duration_2, len(path_2))\n",
    "q_knots_2 = np.array(path_2)\n",
    "q_traj_rrt_2 = PiecewisePolynomial.Cubic(t_knots_2, q_knots_2.T, np.zeros(7), np.zeros(7))\n",
    "\n",
    "# close gripper\n",
    "q_knots_close_gripper = np.zeros((2, 7))\n",
    "q_knots_close_gripper[0] = q_knots[0]\n",
    "qtraj_close_gripper = PiecewisePolynomial.ZeroOrderHold(\n",
    "                            [0, 1], q_knots_close_gripper.T)\n",
    "\n",
    "# open gripper\n",
    "q_knots_open_gripper = np.zeros((2, 7))\n",
    "q_knots_open_gripper[0] = q_knots_2[-1]\n",
    "qtraj_open_gripper = PiecewisePolynomial.ZeroOrderHold(\n",
    "                            [0, 1], q_knots_open_gripper.T)\n",
    "\n",
    "# Generate plan list\n",
    "plan_list = [JointSpacePlan(qtraj) for qtraj in [qtraj_close_gripper, q_traj_rrt, q_traj_rrt_2, qtraj_open_gripper]]\n",
    "gripper_setpoint_list = [0.005, 0.005, 0.005, 0.1]\n",
    "\n",
    "\n",
    "# Construct simulator.\n",
    "sim = ManipulationStationSimulator(X_WO, robot_has_collision=True)\n",
    "\n",
    "door_angles = np.array([left_door_angle, right_door_angle])\n",
    "# real_time_rate=0 means running the simulation as fast as possible. \n",
    "# Setting real_time_rate 1 to run the simulation close to real time.\n",
    "(iiwa_position_command_log, iiwa_position_measured_log,\n",
    "    iiwa_external_torque_log, iiwa_velocity_estimated_log,\n",
    "    plant_state_log, t_plan) = sim.RunSimulation(\n",
    "    q_home, door_angles, plan_list, gripper_setpoint_list, extra_time=2.0, real_time_rate=0.0,\n",
    "    gripper_setpoint_initial=0.1)\n"
   ]
  }
 ],
 "metadata": {
  "kernelspec": {
   "display_name": "Python 3",
   "language": "python",
   "name": "python3"
  },
  "language_info": {
   "codemirror_mode": {
    "name": "ipython",
    "version": 3
   },
   "file_extension": ".py",
   "mimetype": "text/x-python",
   "name": "python",
   "nbconvert_exporter": "python",
   "pygments_lexer": "ipython3",
   "version": "3.6.8"
  }
 },
 "nbformat": 4,
 "nbformat_minor": 2
}
