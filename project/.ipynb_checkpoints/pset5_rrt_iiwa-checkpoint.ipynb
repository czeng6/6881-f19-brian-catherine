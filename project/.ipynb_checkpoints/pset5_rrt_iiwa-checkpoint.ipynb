{
 "cells": [
  {
   "cell_type": "markdown",
   "metadata": {},
   "source": [
    "# Problem Set #5 Part 3:  pick-and-place planning with RRT\n",
    "In problem set 3, you were asked to hand code a series of trajectories which picks up a foam brick and places it on the shelf. In this notebook, we'll see how this process can be (almost) automated with RRT."
   ]
  },
  {
   "cell_type": "markdown",
   "metadata": {},
   "source": [
    "## Setup"
   ]
  },
  {
   "cell_type": "code",
   "execution_count": 6,
   "metadata": {},
   "outputs": [],
   "source": [
    "# Import stuff to be used in this notebook. Run this first!\n",
    "%reload_ext autoreload\n",
    "%autoreload 2\n",
    "\n",
    "import numpy as np\n",
    "import meshcat\n",
    "\n",
    "from pydrake.math import RollPitchYaw, RotationMatrix, RigidTransform\n",
    "from pydrake.trajectories import PiecewisePolynomial"
   ]
  },
  {
   "cell_type": "code",
   "execution_count": 7,
   "metadata": {},
   "outputs": [
    {
     "name": "stdout",
     "output_type": "stream",
     "text": [
      "You can open the visualizer by visiting the following URL:\n",
      "http://127.0.0.1:7002/static/\n"
     ]
    }
   ],
   "source": [
    "# First start meshcat for visualization - this only has to be run once.\n",
    "\n",
    "# If you interrupt the kernel of this notebook, you'll need to run this cell again to \n",
    "# restart the meshcat server, and then refresh the visualization window. \n",
    "\n",
    "# This will open a mesh-cat server in the background, \n",
    "# click on the url to display visualization in a separate window. \n",
    "vis = meshcat.Visualizer()"
   ]
  },
  {
   "cell_type": "code",
   "execution_count": 5,
   "metadata": {},
   "outputs": [],
   "source": [
    "# Run this if you feel the visualizer is messed up and want to start over.\n",
    "vis.delete()"
   ]
  },
  {
   "cell_type": "markdown",
   "metadata": {},
   "source": [
    "## 1. Joint space trajectory planning with RRT\n",
    "RRT finds collision-free paths between points in the robot's **configuration space**. However, pick-and-place tasks are specified in the **task space** (6-DOF pose of frame `L7`). Therefore, before planning with RRT, we need to find, with the help of IK, the following robot joint angles (configurations):\n",
    "- `q_start` which picks up the object, and \n",
    "- `q_goal` which places the object on the shelf."
   ]
  },
  {
   "cell_type": "code",
   "execution_count": 11,
   "metadata": {},
   "outputs": [],
   "source": [
    "from ik_iiwa import SolveOneShotIk, q0, q_home, p_L7Q, X_WO\n",
    "\n",
    "# use the object pose X_WO to find the pick-up configuration.\n",
    "################# Your code here #########################\n",
    "p_WQ_0 = np.array([0.55, -0.1, 0.015])\n",
    "R_WL7_0 = RollPitchYaw(0, np.pi * 5 / 6, 0).ToRotationMatrix()\n",
    "\n",
    "p_WQ_final = np.array([0.84, 0.1, 0.35])\n",
    "R_WL7_final = RollPitchYaw(0, np.pi * 4 / 6, 0).ToRotationMatrix()\n",
    "##########################################################\n",
    "\n",
    "q_start = SolveOneShotIk(p_WQ_0, R_WL7_0, p_L7Q, q_home)\n",
    "q_goal = SolveOneShotIk(p_WQ_final, R_WL7_final, p_L7Q, q_home)"
   ]
  },
  {
   "cell_type": "markdown",
   "metadata": {},
   "source": [
    "The cell below constructs an RRT problem with the gripper open, the left cabinet door open and the right door closed. The configuration space of the problem is the 7-dimensional joint space of the IIWA arm.\n",
    "\n",
    "Although drake's IK supports collision-free constraint, it is not used in `SolveOneShotIk`. It is therefore your responsibility to make sure that both `q_start` and `q_goal` are collision-free, which shouldn't be too hard if you pick the end effector poses suitably."
   ]
  },
  {
   "cell_type": "code",
   "execution_count": 12,
   "metadata": {},
   "outputs": [
    {
     "name": "stdout",
     "output_type": "stream",
     "text": [
      "Connecting to meshcat-server at zmq_url=tcp://127.0.0.1:6000...\n",
      "You can open the visualizer by visiting the following URL:\n",
      "http://127.0.0.1:7000/static/\n",
      "Connected to meshcat-server.\n"
     ]
    }
   ],
   "source": [
    "# Constructs rrt problem. \n",
    "from rrt_planner.iiwa_rrt_problem import IiwaProblem\n",
    "\n",
    "gripper_setpoint = 0.1\n",
    "door_angle = np.pi/2 - 0.001\n",
    "left_door_angle = -door_angle\n",
    "right_door_angle = 0.001\n",
    "\n",
    "iiwa_problem = IiwaProblem(\n",
    "    q_start=q_start,\n",
    "    q_goal=q_goal,\n",
    "    gripper_setpoint=gripper_setpoint,\n",
    "    left_door_angle=left_door_angle,\n",
    "    right_door_angle=right_door_angle,\n",
    "    is_visualizing=True)"
   ]
  },
  {
   "cell_type": "markdown",
   "metadata": {},
   "source": [
    "Pick a planning method (RRT or bi-directional RRT) to plan a path from `q_start` to `q_goal`. Which one is more likely to succeed?"
   ]
  },
  {
   "cell_type": "code",
   "execution_count": 14,
   "metadata": {},
   "outputs": [
    {
     "name": "stdout",
     "output_type": "stream",
     "text": [
      "Path found with 16 movements of distance  10.223294366215665\n",
      "Smoothed path found with 3 movements of distance  3.3727706419979437\n"
     ]
    }
   ],
   "source": [
    "path = iiwa_problem.run_planner(method=\"birrt\")"
   ]
  },
  {
   "cell_type": "code",
   "execution_count": null,
   "metadata": {},
   "outputs": [],
   "source": [
    "# Visualize pick-and-place trajectory in meshcat\n",
    "iiwa_problem.visualize_path(path)"
   ]
  },
  {
   "cell_type": "markdown",
   "metadata": {},
   "source": [
    "## 2. Run pick-and-place trajectories in simulation\n",
    "The following cell constructs pick-and-place trajectories from the configuration space path (`path`) planned by RRT and simulates them. \n",
    "\n",
    "**(3 points)** We will check off your pick-and-place trajectories on the real robot in lab 2. "
   ]
  },
  {
   "cell_type": "code",
   "execution_count": 15,
   "metadata": {},
   "outputs": [
    {
     "name": "stdout",
     "output_type": "stream",
     "text": [
      "Connecting to meshcat-server at zmq_url=tcp://127.0.0.1:6000...\n",
      "You can open the visualizer by visiting the following URL:\n",
      "http://127.0.0.1:7000/static/\n",
      "Connected to meshcat-server.\n",
      "simulation duration 31.0\n",
      "plan starting times\n",
      " [ 0.  2.  9. 11. 27. 29.]\n",
      "t:  0.0\n",
      "t:  1.0\n",
      "Running plan 1 (type: JointSpacePlanGoToTarget), starting at 2.000000 for a duration of 6.000000 seconds.\n",
      "\n",
      "t:  2.0\n",
      "t:  3.0\n",
      "t:  4.0\n",
      "t:  5.0\n",
      "t:  6.0\n",
      "t:  7.0\n",
      "t:  8.0\n",
      "Running plan 2 (type: JointSpacePlan), starting at 9.000000 for a duration of 1.000000 seconds.\n",
      "\n",
      "t:  9.0\n",
      "t:  10.0\n",
      "Running plan 3 (type: JointSpacePlan), starting at 11.000000 for a duration of 15.000000 seconds.\n",
      "\n",
      "t:  11.0\n",
      "t:  12.0\n",
      "t:  13.0\n",
      "t:  14.0\n",
      "t:  15.0\n",
      "t:  16.0\n",
      "t:  17.0\n",
      "t:  18.0\n",
      "t:  19.0\n",
      "t:  20.0\n",
      "t:  21.0\n",
      "t:  22.0\n",
      "t:  23.0\n",
      "t:  24.0\n",
      "t:  25.0\n",
      "t:  26.0\n",
      "Running plan 4 (type: JointSpacePlan), starting at 27.000000 for a duration of 1.000000 seconds.\n",
      "\n",
      "t:  27.0\n",
      "t:  28.0\n",
      "No more plans to run, holding current position...\n",
      "\n",
      "Running plan 5 (type: JointSpacePlanRelative), starting at 29.000000 for a duration of 3600.000000 seconds.\n",
      "\n",
      "t:  29.0\n",
      "t:  30.0\n"
     ]
    }
   ],
   "source": [
    "from manip_station_sim.manipulation_station_simulator import ManipulationStationSimulator\n",
    "from manip_station_sim.robot_plans import JointSpacePlan\n",
    "from ik_iiwa import X_WO\n",
    "\n",
    "# joint space trajectory from RRT path\n",
    "duration = 15\n",
    "t_knots = np.linspace(0, duration, len(path))\n",
    "q_knots = np.array(path)\n",
    "q_traj_rrt = PiecewisePolynomial.Cubic(t_knots, q_knots.T, np.zeros(7), np.zeros(7))\n",
    "\n",
    "# close gripper\n",
    "q_knots_close_gripper = np.zeros((2, 7))\n",
    "q_knots_close_gripper[0] = q_knots[0]\n",
    "qtraj_close_gripper = PiecewisePolynomial.ZeroOrderHold(\n",
    "                            [0, 1], q_knots_close_gripper.T)\n",
    "\n",
    "# open gripper\n",
    "q_knots_open_gripper = np.zeros((2, 7))\n",
    "q_knots_open_gripper[0] = q_knots[-1]\n",
    "qtraj_open_gripper = PiecewisePolynomial.ZeroOrderHold(\n",
    "                            [0, 1], q_knots_open_gripper.T)\n",
    "\n",
    "# Generate plan list\n",
    "plan_list = [JointSpacePlan(qtraj) for qtraj in [qtraj_close_gripper, q_traj_rrt, qtraj_open_gripper]]\n",
    "gripper_setpoint_list = [0.005, 0.005, 0.1]\n",
    "\n",
    "\n",
    "# Construct simulator.\n",
    "sim = ManipulationStationSimulator(X_WO, robot_has_collision=True)\n",
    "\n",
    "door_angles = np.array([left_door_angle, right_door_angle])\n",
    "# real_time_rate=0 means running the simulation as fast as possible. \n",
    "# Setting real_time_rate 1 to run the simulation close to real time.\n",
    "(iiwa_position_command_log, iiwa_position_measured_log,\n",
    "    iiwa_external_torque_log, iiwa_velocity_estimated_log,\n",
    "    plant_state_log, t_plan) = sim.RunSimulation(\n",
    "    q_home, door_angles, plan_list, gripper_setpoint_list, extra_time=2.0, real_time_rate=0.0,\n",
    "    gripper_setpoint_initial=0.1)"
   ]
  },
  {
   "cell_type": "code",
   "execution_count": null,
   "metadata": {},
   "outputs": [],
   "source": []
  }
 ],
 "metadata": {
  "kernelspec": {
   "display_name": "Python 3",
   "language": "python",
   "name": "python3"
  },
  "language_info": {
   "codemirror_mode": {
    "name": "ipython",
    "version": 3
   },
   "file_extension": ".py",
   "mimetype": "text/x-python",
   "name": "python",
   "nbconvert_exporter": "python",
   "pygments_lexer": "ipython3",
   "version": "3.6.8"
  }
 },
 "nbformat": 4,
 "nbformat_minor": 2
}
